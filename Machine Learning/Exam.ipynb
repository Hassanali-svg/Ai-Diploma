{
 "cells": [
  {
   "cell_type": "markdown",
   "id": "e63c2b2f-532d-472b-9305-349efdab1bbb",
   "metadata": {},
   "source": [
    "### Here are some test questions for simple linear regression, multiple linear regression, decision trees, and random forests:"
   ]
  },
  {
   "cell_type": "markdown",
   "id": "1cb2ef45-1db2-4254-83ae-a8b96adafc45",
   "metadata": {},
   "source": [
    " - Simple linear regression"
   ]
  },
  {
   "attachments": {},
   "cell_type": "markdown",
   "id": "3bc92ea5-17f6-4c26-bdc2-faea1f063462",
   "metadata": {},
   "source": [
    "What is the mathematical formula for a simple linear regression model?\n",
    "\n",
    ">$$y=m*x+b\n",
    "\n",
    "\n",
    "How do you measure the fit of a simple linear regression model?\n",
    "\n",
    "> by calculating the difference between y_pred and y_true , if the difference is high that means bad fit , if it low then it's good fit\n",
    "\n",
    "\n",
    "\n",
    "How do you determine the most appropriate model for a simple linear regression problem?\n",
    "\n",
    ">by calculating it is loss and accuracy , high accuracy and low loss model  is the one i am going to choose"
   ]
  },
  {
   "attachments": {},
   "cell_type": "markdown",
   "id": "c793d401-d2f2-4bb3-91c5-5eba16604a1f",
   "metadata": {},
   "source": [
    "***\n",
    "- Multiple linear regression"
   ]
  },
  {
   "attachments": {},
   "cell_type": "markdown",
   "id": "b9ae6b6e-d411-444f-9bf2-f8cb6d4c97c5",
   "metadata": {},
   "source": [
    "How does multiple linear regression differ from simple linear regression?\n",
    "> the simple linear regression try to find relation between the prediction feature and only on single feature , but the multi try to find the relation > between prediction feature and other features in the dataset\n",
    "\n",
    "How do you identify which variables are significant in a multiple linear regression model?\n",
    "> by calculating it is `P-Value`\n",
    "\n",
    "How do you deal with multicollinearity in a multiple linear regression model?\n",
    ">by removing one of the highly correlated feature \n",
    ">by trying to find relation between the high correlated features , that can be translated to a single feature "
   ]
  },
  {
   "attachments": {},
   "cell_type": "markdown",
   "id": "1c75a255-4625-43bf-9397-7ea76bebc777",
   "metadata": {},
   "source": [
    "---\n",
    "- Decision trees"
   ]
  },
  {
   "attachments": {},
   "cell_type": "markdown",
   "id": "1a7f6541-b1cf-464f-8c16-7253f736b2aa",
   "metadata": {},
   "source": [
    "What is the process for creating a decision tree?\n",
    "\n",
    "> - select the best attribute to be the root node , which has the largest standing deviation reduction  \n",
    "> - then split the other attributes, depending on it standard deviation reduction value and  Coefficients of Variation\n",
    "\n",
    "How do you decide which features to include in a decision tree?\n",
    "\n",
    ">\n",
    "\n",
    "How do you determine the optimal depth of a decision tree?\n",
    "\n",
    "> i will use gridsearch to determine the best optimal depth\n"
   ]
  },
  {
   "attachments": {},
   "cell_type": "markdown",
   "id": "e0a771a7-7388-47fe-b75f-43b719698aea",
   "metadata": {},
   "source": [
    "---\n",
    "- Random forests"
   ]
  },
  {
   "attachments": {},
   "cell_type": "markdown",
   "id": "612c02ae-b582-43e5-9bbf-db6409c590d5",
   "metadata": {},
   "source": [
    "What is the difference between a decision tree and a random forest?\n",
    " > random Forest is combination of decision trees that each oe will give prediction then the final prediction will be th average oo them \n",
    "\n",
    "How do you decide the number of trees to include in a random forest?\n",
    ">i will use gridsearch to determine number of trees\n",
    "\n",
    "How do you measure the importance of different features in a random forest?\n",
    "> will use `rf_model.feature_importances_` attr from  sklearn , and that will return each feature and it is importance  value between 0 ~ 1 \n",
    "`"
   ]
  },
  {
   "cell_type": "code",
   "execution_count": null,
   "id": "c683f3c3-42ea-4586-b59b-d78e7beb7139",
   "metadata": {},
   "outputs": [],
   "source": []
  }
 ],
 "metadata": {
  "kernelspec": {
   "display_name": "Python 3",
   "language": "python",
   "name": "python3"
  },
  "language_info": {
   "codemirror_mode": {
    "name": "ipython",
    "version": 3
   },
   "file_extension": ".py",
   "mimetype": "text/x-python",
   "name": "python",
   "nbconvert_exporter": "python",
   "pygments_lexer": "ipython3",
   "version": "3.7.4 (tags/v3.7.4:e09359112e, Jul  8 2019, 19:29:22) [MSC v.1916 32 bit (Intel)]"
  },
  "vscode": {
   "interpreter": {
    "hash": "59fc2309be6acf934a259a11d2dbf17bac9f9535f2277f597f2457d7a70440c3"
   }
  }
 },
 "nbformat": 4,
 "nbformat_minor": 5
}
