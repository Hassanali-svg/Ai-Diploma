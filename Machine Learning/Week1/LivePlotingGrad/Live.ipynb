{
 "cells": [
  {
   "cell_type": "code",
   "execution_count": 9,
   "metadata": {},
   "outputs": [],
   "source": [
    "\n",
    "import matplotlib.pyplot as plt \n",
    "import numpy as np \n",
    "import time\n",
    "from IPython import display\n",
    "\n",
    "import pandas as pd\n",
    "\n"
   ]
  },
  {
   "cell_type": "code",
   "execution_count": 2,
   "metadata": {},
   "outputs": [],
   "source": [
    "df=pd.read_csv('Salary_Data.csv')"
   ]
  },
  {
   "cell_type": "code",
   "execution_count": 28,
   "metadata": {},
   "outputs": [],
   "source": [
    "l_r=0.001\n",
    "a_0=0\n",
    "a_1=0\n",
    "loss=[]\n",
    "i=0\n",
    "y=lambda x: a_0+x_po*a_1\n",
    "epochs=10\n",
    "\n",
    "x_po=df['YearsExperience'].to_numpy()\n",
    "y_po=df['Salary'].to_numpy()\n"
   ]
  },
  {
   "cell_type": "code",
   "execution_count": 32,
   "metadata": {},
   "outputs": [
    {
     "data": {
      "image/png": "[encoded data removed]",
      "text/plain": [
       "<Figure size 432x288 with 1 Axes>"
      ]
     },
     "metadata": {
      "needs_background": "light"
     },
     "output_type": "display_data"
    }
   ],
   "source": [
    "#plt.ion()\n",
    "#fig,ax = plt.subplots()\n",
    "#plt.show()\n",
    "\n",
    "def line_fit_plot(point):\n",
    "    '''Function to plot the Fitting Line\n",
    "    Args:\n",
    "        input:\n",
    "            X axis Point , to draw the line across it is point \n",
    "        Return:\n",
    "            Line Plot of the new line with new a_0 and a_1\n",
    "    '''\n",
    "\n",
    "    x_point=[i for i in range(int(point.min()-1),int(point.max()+2))]\n",
    "    y=lambda x:a_0+x*a_1\n",
    "    y_pred=[y(x) for x in x_point ]\n",
    "    #plt.plot(x_point,y_pred)\n",
    "    return x_point, y_pred\n",
    "\n",
    "\n",
    "for _ in range(epochs):\n",
    "    # Get the New Pred\n",
    "    plt.cla()\n",
    "\n",
    "    pred=a_0+a_1*x_po\n",
    "\n",
    "    # Calc da_0 da_1\n",
    "    da_0=(2/len(x_po))*(np.sum(pred-y_po))\n",
    "    da_1=(2/len(x_po))*(np.sum((pred-y_po)*x_po))\n",
    "\n",
    "    # Update a_o and a_1\n",
    "    a_0=a_0-l_r*da_0\n",
    "    a_1=a_1-l_r*da_1\n",
    "\n",
    "\n",
    "    # Calc The Mean Squared Error\n",
    "    MSE=(1/len(y_po))*(np.sum(np.array(pred-y_po)**2))\n",
    "    loss.append(MSE)\n",
    "    plt.scatter(df['YearsExperience'],df['Salary'],label='True')\n",
    "    x_point, y_pred = line_fit_plot(x_po)\n",
    "    plt.plot(x_point,y_pred,'r--', label='Prediction')\n",
    "    plt.show()\n",
    "    display.clear_output(wait=True)\n",
    "\n",
    "\n",
    "\n",
    "   \n",
    "    \n",
    "    \n",
    "    \n",
    "\n",
    "    \n"
   ]
  },
  {
   "cell_type": "code",
   "execution_count": null,
   "metadata": {},
   "outputs": [],
   "source": []
  }
 ],
 "metadata": {
  "kernelspec": {
   "display_name": "tensor",
   "language": "python",
   "name": "python3"
  },
  "language_info": {
   "codemirror_mode": {
    "name": "ipython",
    "version": 3
   },
   "file_extension": ".py",
   "mimetype": "text/x-python",
   "name": "python",
   "nbconvert_exporter": "python",
   "pygments_lexer": "ipython3",
   "version": "3.6.10"
  },
  "orig_nbformat": 4,
  "vscode": {
   "interpreter": {
    "hash": "cd8ea96264a5408c8ec89183207d160a3a3223017a3119caf4d7ad9a610025aa"
   }
  }
 },
 "nbformat": 4,
 "nbformat_minor": 2
}
