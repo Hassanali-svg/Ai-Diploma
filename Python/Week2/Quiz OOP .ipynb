{
 "cells": [
  {
   "cell_type": "markdown",
   "id": "1b7e756f-cdf2-4102-ae1e-fe8b43849c66",
   "metadata": {},
   "source": [
    "# I need a Game for Car \n",
    "\n",
    "when i input start print \"I'm ready to go \"\n",
    "\n",
    "when i input stop print \"Car stop\"\n",
    "\n",
    "when i input Quit stop the game \n",
    "\n",
    "and add help to help him in this choise if he didn't know --> like a massage to till him"
   ]
  },
  {
   "cell_type": "code",
   "execution_count": 1,
   "id": "63f4576d-ed25-4fb9-832a-399567f38269",
   "metadata": {},
   "outputs": [
    {
     "name": "stdout",
     "output_type": "stream",
     "text": [
      "I am Ready To Go\n",
      "Going Forward\n",
      "Going Backward\n",
      "Car Stop\n"
     ]
    }
   ],
   "source": [
    "class CarMovment():\n",
    "    def __init__(self) :\n",
    "        value_holder=0\n",
    "        start_holder=0 #value to store start string\n",
    "        while value_holder !='Quit':\n",
    "\n",
    "            value_holder=input('Pls Input An Order To Move The Car \\n Stop , Start ,Left,Right,Forward,Backward, Quit')\n",
    "            \n",
    "                   \n",
    "                    \n",
    "    \n",
    "            if value_holder=='Start':\n",
    "                \n",
    "                print('I am Ready To Go')\n",
    "        \n",
    "            elif value_holder=='Stop' :\n",
    "                    print('Car Stop')\n",
    "            elif value_holder=='Left':\n",
    "                    print('Taking Left')\n",
    "            elif value_holder=='Right':\n",
    "                print('Taking Right')\n",
    "            elif value_holder=='Forward' :\n",
    "                print('Going Forward')\n",
    "            elif value_holder=='Backward' :\n",
    "                print('Going Backward')\n",
    "                \n",
    "                \n",
    "        else:\n",
    "            print('Quit Game')\n",
    "                \n",
    "\n",
    "            \n",
    "        \n",
    "            \n",
    "\n",
    "\n",
    "CarMovment()\n",
    "\n",
    "            \n",
    "\n",
    "        "
   ]
  },
  {
   "cell_type": "markdown",
   "id": "66397f40-91a5-4c2b-a612-094a6732e697",
   "metadata": {},
   "source": [
    "# I need math game \n",
    "\n",
    "when i choise any number give my the maltiplcation of it like \n",
    "\n",
    "1*1=1\n",
    "\n",
    "1*2=2\n",
    "\n",
    "1*3=3\n",
    "\n",
    "so on ..."
   ]
  },
  {
   "cell_type": "code",
   "execution_count": 3,
   "id": "a51e81f5-66bb-4bae-a5d7-e240c8ac710c",
   "metadata": {},
   "outputs": [
    {
     "name": "stdout",
     "output_type": "stream",
     "text": [
      "8 * 1 = 8\n",
      "8 * 2 = 16\n",
      "8 * 3 = 24\n",
      "8 * 4 = 32\n",
      "8 * 5 = 40\n",
      "8 * 6 = 48\n",
      "8 * 7 = 56\n",
      "8 * 8 = 64\n",
      "8 * 9 = 72\n",
      "8 * 10 = 80\n"
     ]
    },
    {
     "data": {
      "text/plain": [
       "<__main__.MultiNumber at 0x753e3b0>"
      ]
     },
     "execution_count": 3,
     "metadata": {},
     "output_type": "execute_result"
    }
   ],
   "source": [
    "# To help you i need a clas\n",
    "\n",
    "class MultiNumber ():\n",
    "    def __init__(self,number):\n",
    "        for i in range(1,11):\n",
    "            print(f'{number} * {i} = {number*i}')\n",
    "MultiNumber(8)"
   ]
  },
  {
   "cell_type": "code",
   "execution_count": null,
   "id": "77712a37",
   "metadata": {},
   "outputs": [],
   "source": []
  }
 ],
 "metadata": {
  "kernelspec": {
   "display_name": "Python 3.7.4 32-bit",
   "language": "python",
   "name": "python3"
  },
  "language_info": {
   "codemirror_mode": {
    "name": "ipython",
    "version": 3
   },
   "file_extension": ".py",
   "mimetype": "text/x-python",
   "name": "python",
   "nbconvert_exporter": "python",
   "pygments_lexer": "ipython3",
   "version": "3.7.4"
  },
  "vscode": {
   "interpreter": {
    "hash": "59fc2309be6acf934a259a11d2dbf17bac9f9535f2277f597f2457d7a70440c3"
   }
  }
 },
 "nbformat": 4,
 "nbformat_minor": 5
}
