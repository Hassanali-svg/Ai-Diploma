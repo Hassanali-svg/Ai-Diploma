{
 "cells": [
  {
   "cell_type": "markdown",
   "id": "1b7e756f-cdf2-4102-ae1e-fe8b43849c66",
   "metadata": {},
   "source": [
    "# I need a Game for Car \n",
    "\n",
    "when i input start print \"I'm ready to go \"\n",
    "\n",
    "when i input stop print \"Car stop\"\n",
    "\n",
    "when i input Quit stop the game \n",
    "\n",
    "and add help to help him in this choise if he didn't know --> like a massage to till him"
   ]
  },
  {
   "cell_type": "code",
   "execution_count": 1,
   "id": "63f4576d-ed25-4fb9-832a-399567f38269",
   "metadata": {},
   "outputs": [],
   "source": [
    "class CarMovment():\n",
    "    def __init__(self) :\n",
    "        value_holder=0\n",
    "        start_holder=0 #value to store start string\n",
    "        while value_holder !='Quit':\n",
    "\n",
    "            value_holder=input('Pls Input An Order To Move The Car \\n Stop , Start ,Left,Right,Forward,Backward, Quit')\n",
    "            \n",
    "                   \n",
    "                    \n",
    "    \n",
    "            if value_holder=='Start':\n",
    "                \n",
    "                print('I am Ready To Go')\n",
    "        \n",
    "            elif value_holder=='Stop' :\n",
    "                    print('Car Stop')\n",
    "            elif value_holder=='Left':\n",
    "                    print('Taking Left')\n",
    "            elif value_holder=='Right':\n",
    "                print('Taking Right')\n",
    "            elif value_holder=='Forward' :\n",
    "                print('Going Forward')\n",
    "            elif value_holder=='Backward' :\n",
    "                print('Going Backward')\n",
    "                \n",
    "                \n",
    "        else:\n",
    "            print('Quit Game')\n",
    "                \n",
    "\n",
    "            \n",
    "        \n",
    "            \n",
    "\n",
    "\n",
    "CarMovment()\n",
    "\n",
    "            \n",
    "\n",
    "        "
   ]
  },
  {
   "cell_type": "markdown",
   "id": "66397f40-91a5-4c2b-a612-094a6732e697",
   "metadata": {},
   "source": [
    "# I need math game \n",
    "\n",
    "when i choise any number give my the maltiplcation of it like \n",
    "\n",
    "1*1=1\n",
    "\n",
    "1*2=2\n",
    "\n",
    "1*3=3\n",
    "\n",
    "so on ..."
   ]
  },
  {
   "cell_type": "code",
   "execution_count": 6,
   "id": "a51e81f5-66bb-4bae-a5d7-e240c8ac710c",
   "metadata": {},
   "outputs": [
    {
     "name": "stdout",
     "output_type": "stream",
     "text": [
      "900 * 1 = 900\n",
      "900 * 2 = 1800\n",
      "900 * 3 = 2700\n",
      "900 * 4 = 3600\n",
      "900 * 5 = 4500\n",
      "900 * 6 = 5400\n",
      "900 * 7 = 6300\n",
      "900 * 8 = 7200\n",
      "900 * 9 = 8100\n",
      "900 * 10 = 9000\n"
     ]
    },
    {
     "data": {
      "text/plain": [
       "<__main__.MultiNumber at 0x81661d0>"
      ]
     },
     "execution_count": 6,
     "metadata": {},
     "output_type": "execute_result"
    }
   ],
   "source": [
    "# To help you i need a clas\n",
    "\n",
    "class MultiNumber ():\n",
    "    def __init__(self,number):\n",
    "        for i in range(1,11):\n",
    "            print(f'{number} * {i} = {number*i}')\n",
    "MultiNumber(900)"
   ]
  },
  {
   "cell_type": "markdown",
   "id": "79c5329a",
   "metadata": {},
   "source": [
    "# One Class"
   ]
  },
  {
   "cell_type": "code",
   "execution_count": 18,
   "id": "77712a37",
   "metadata": {},
   "outputs": [],
   "source": [
    "import random\n",
    "class Games():\n",
    "     def __init__(self,choice) :\n",
    "          self.choice=choice\n",
    "          self.choice_fun(self.choice)\n",
    "\n",
    "\n",
    "\n",
    "\n",
    "     def math_game(self,num):\n",
    "          for i in range(1,11):\n",
    "               print(f'{num} * {i} = {num*i}')\n",
    "\n",
    "\n",
    "     def car_game(self):\n",
    "        \n",
    "        start_holder=[]    \n",
    "        print(start_holder)\n",
    "        while True :\n",
    "\n",
    "            value_holder=input('Pls Input An Order To Move The Car \\n Stop , Start ,Left,Right,Forward,Backward, Quit')\n",
    "\n",
    "            \n",
    "            \n",
    "                    \n",
    "    \n",
    "            if value_holder=='Start' and 'Start'  not in start_holder:\n",
    "                \n",
    "                print('I am Ready To Go')\n",
    "                start_holder.append('Start')\n",
    "                continue\n",
    "        \n",
    "            elif value_holder=='Stop'  and 'Start' in start_holder:\n",
    "                print('Car Stop')\n",
    "                continue\n",
    "\n",
    "\n",
    "            elif value_holder=='Left' and 'Start' in start_holder:\n",
    "\n",
    "                print('Taking Left')\n",
    "                continue\n",
    "            elif value_holder=='Right' and 'Start' in start_holder:\n",
    "                print('Taking Right')\n",
    "                continue\n",
    "            elif value_holder=='Forward' and 'Start' in start_holder :\n",
    "                print('Going Forward')\n",
    "                continue\n",
    "            elif value_holder=='Backward'  and 'Start' in start_holder:\n",
    "                print('Going Backward')\n",
    "                continue\n",
    "            elif value_holder=='Start' and 'Start' in start_holder:\n",
    "                print('Car is Already Running')\n",
    "                continue\n",
    "\n",
    "            \n",
    "            if value_holder and 'Start'  not in start_holder:\n",
    "                \n",
    "                print('Pls Stsrt The Car First')\n",
    "                continue\n",
    "            \n",
    "            elif value_holder=='Quit':\n",
    "                print('Quit Game')\n",
    "                break\n",
    "                \n",
    "       \n",
    "     def rock_paper_sicissor(self):\n",
    "        \n",
    "        list_of_choice=['rock','paper','scissors']\n",
    "        list_of_choice=['rock','paper','scissors']\n",
    "\n",
    "        user_score=0\n",
    "        computer_score=0\n",
    "\n",
    "\n",
    "        for i in range(3):\n",
    "            computer_choice=list_of_choice[random.randint(0,2)]\n",
    "            gamer_choice=input('Pls Input rock ,paper or scissors')\n",
    "\n",
    "            if computer_choice==gamer_choice:\n",
    "                computer_score+=0\n",
    "                user_score+=0\n",
    "            \n",
    "            elif computer_choice=='paper' and gamer_choice=='rock':\n",
    "                computer_score+=1\n",
    "                user_score+=0\n",
    "\n",
    "            elif computer_choice=='rock' and gamer_choice=='scissors':\n",
    "                computer_score+=1\n",
    "                user_score+=0\n",
    "            elif computer_choice=='scissors' and gamer_choice=='paper':\n",
    "                computer_score+=1\n",
    "                user_score+=0\n",
    "            else:\n",
    "                computer_score+=0\n",
    "                user_score+=1\n",
    "            print(f'------------------try_{i+1}-------------------------')\n",
    "            print(f'HUMAN : {gamer_choice} ----------- MACHINE : {computer_choice} ')\n",
    "            print('\\t')\n",
    "            print('\\t')\n",
    "            print(f'HUMAN Score = {user_score} ----------- MACHINE Score = {computer_score} ')\n",
    "\n",
    "        if computer_score > user_score :\n",
    "            print('Oh Oh Computers Gonna Rule The World')\n",
    "        elif computer_score == user_score:\n",
    "            print('The TIde Is So High as This TIDE!!!')\n",
    "        else:\n",
    "            print('YEAH!!! Human Survived ')\n",
    "\n",
    "\n",
    "     def choice_fun(self,choice):\n",
    "          if choice =='math':\n",
    "               self.num=input(\"input number to print it's label\")\n",
    "               try:\n",
    "                    self.math_game(int(self.num))\n",
    "               except:\n",
    "                    self.math_game(float(self.num))\n",
    "               else:\n",
    "                    print('Not Valid Number Pls Input A Number')\n",
    "                \n",
    "          elif choice =='car':\n",
    "               self.car_game()\n",
    "          elif choice =='rock_paper':\n",
    "               self.rock_paper_sicissor()\n",
    "\n",
    "\n",
    "    \n",
    "\n",
    "     \n",
    "\n",
    "           \n",
    "           \n",
    "\n"
   ]
  },
  {
   "cell_type": "markdown",
   "id": "00af8172",
   "metadata": {},
   "source": [
    "# Car Game Working Fine Now "
   ]
  },
  {
   "cell_type": "code",
   "execution_count": 21,
   "id": "66bc9187",
   "metadata": {},
   "outputs": [
    {
     "name": "stdout",
     "output_type": "stream",
     "text": [
      "[]\n",
      "Pls Stsrt The Car First\n",
      "I am Ready To Go\n",
      "Going Forward\n",
      "Going Backward\n",
      "Taking Left\n",
      "Taking Left\n",
      "Taking Right\n",
      "Quit Game\n"
     ]
    },
    {
     "data": {
      "text/plain": [
       "<__main__.Games at 0x7e0e950>"
      ]
     },
     "execution_count": 21,
     "metadata": {},
     "output_type": "execute_result"
    }
   ],
   "source": [
    "Games('car')"
   ]
  },
  {
   "cell_type": "code",
   "execution_count": 16,
   "id": "83026416",
   "metadata": {},
   "outputs": [
    {
     "name": "stdout",
     "output_type": "stream",
     "text": [
      "-1 * 1 = -1\n",
      "-1 * 2 = -2\n",
      "-1 * 3 = -3\n",
      "-1 * 4 = -4\n",
      "-1 * 5 = -5\n",
      "-1 * 6 = -6\n",
      "-1 * 7 = -7\n",
      "-1 * 8 = -8\n",
      "-1 * 9 = -9\n",
      "-1 * 10 = -10\n",
      "Not Valid Number Pls Input A Number\n"
     ]
    },
    {
     "data": {
      "text/plain": [
       "<__main__.Games at 0x82579d0>"
      ]
     },
     "execution_count": 16,
     "metadata": {},
     "output_type": "execute_result"
    }
   ],
   "source": [
    "Games('math')\n"
   ]
  },
  {
   "cell_type": "code",
   "execution_count": 42,
   "id": "ad034bec",
   "metadata": {},
   "outputs": [
    {
     "name": "stdout",
     "output_type": "stream",
     "text": [
      "------------------try_1-------------------------\n",
      "HUMAN : paper ----------- MACHINE : paper \n",
      "\t\n",
      "\t\n",
      "HUMAN Score = 0 ----------- MACHINE Score = 0 \n",
      "------------------try_2-------------------------\n",
      "HUMAN : paper ----------- MACHINE : rock \n",
      "\t\n",
      "\t\n",
      "HUMAN Score = 1 ----------- MACHINE Score = 0 \n",
      "------------------try_3-------------------------\n",
      "HUMAN : paper ----------- MACHINE : paper \n",
      "\t\n",
      "\t\n",
      "HUMAN Score = 1 ----------- MACHINE Score = 0 \n",
      "YEAH!!! Human Survived \n"
     ]
    },
    {
     "data": {
      "text/plain": [
       "<__main__.Games at 0x788aa30>"
      ]
     },
     "execution_count": 42,
     "metadata": {},
     "output_type": "execute_result"
    }
   ],
   "source": [
    "Games('rock_paper')"
   ]
  },
  {
   "cell_type": "code",
   "execution_count": null,
   "id": "8b33bc52",
   "metadata": {},
   "outputs": [],
   "source": []
  }
 ],
 "metadata": {
  "kernelspec": {
   "display_name": "Python 3.7.4 32-bit",
   "language": "python",
   "name": "python3"
  },
  "language_info": {
   "codemirror_mode": {
    "name": "ipython",
    "version": 3
   },
   "file_extension": ".py",
   "mimetype": "text/x-python",
   "name": "python",
   "nbconvert_exporter": "python",
   "pygments_lexer": "ipython3",
   "version": "3.7.4"
  },
  "vscode": {
   "interpreter": {
    "hash": "59fc2309be6acf934a259a11d2dbf17bac9f9535f2277f597f2457d7a70440c3"
   }
  }
 },
 "nbformat": 4,
 "nbformat_minor": 5
}
