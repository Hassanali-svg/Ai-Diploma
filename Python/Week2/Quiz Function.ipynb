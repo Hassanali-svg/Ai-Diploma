{
 "cells": [
  {
   "cell_type": "markdown",
   "id": "638b31a0-bdb2-4215-81b0-41fc5a87a34b",
   "metadata": {
    "tags": []
   },
   "source": [
    "### Transform the code you made for calculating the area of a circleinto \n",
    "function that:\n",
    "\n",
    "○ Takes the radius as inputs\n",
    "\n",
    "○ Gives the area as an output\n"
   ]
  },
  {
   "cell_type": "code",
   "execution_count": 5,
   "id": "1cd5082e-f973-435e-b796-f1ef5e0217c5",
   "metadata": {},
   "outputs": [],
   "source": [
    "\n",
    "def circle_area(r):\n",
    "\n",
    "    \n",
    "    pi=3.14\n",
    "    return f\"Area={2*pi*r} cm^2\""
   ]
  },
  {
   "cell_type": "code",
   "execution_count": 6,
   "id": "01993f7b-37c8-42d1-86b3-5e45b0113313",
   "metadata": {},
   "outputs": [
    {
     "data": {
      "text/plain": [
       "'Area=37.68 cm^2'"
      ]
     },
     "execution_count": 6,
     "metadata": {},
     "output_type": "execute_result"
    }
   ],
   "source": [
    "circle_area(6)"
   ]
  },
  {
   "cell_type": "markdown",
   "id": "3e81cce6-690c-422d-8c26-9029d4bdd3c7",
   "metadata": {},
   "source": [
    "### write a function to calculate the factorialof \n",
    "\n",
    "a given number and returns the result:"
   ]
  },
  {
   "cell_type": "markdown",
   "id": "40af4086-f755-4537-abf2-b7a21171babb",
   "metadata": {},
   "source": [
    "○ 1! = 1\n",
    "\n",
    "○ 3! = 3*2*1\n",
    "\n",
    "○ 5! = 5*4*3*2*1\n"
   ]
  },
  {
   "cell_type": "code",
   "execution_count": 10,
   "id": "534fb5c7-6731-4df8-b0b3-a62ee8dc0770",
   "metadata": {},
   "outputs": [],
   "source": [
    "def fact(num):\n",
    "    multi_holder=1\n",
    "    for i in range(1,num+1):\n",
    "        multi_holder=i*multi_holder\n",
    "\n",
    "    return f'The Factorial == {multi_holder}'\n",
    "\n",
    "\n"
   ]
  },
  {
   "cell_type": "code",
   "execution_count": 11,
   "id": "9351b6bb-654d-4121-9c21-eb0f9b1ff5a5",
   "metadata": {},
   "outputs": [
    {
     "data": {
      "text/plain": [
       "'The Factorial == 362880'"
      ]
     },
     "execution_count": 11,
     "metadata": {},
     "output_type": "execute_result"
    }
   ],
   "source": [
    "fact(9)"
   ]
  },
  {
   "cell_type": "code",
   "execution_count": null,
   "id": "813e955a-5f27-4061-bb95-0d95eea6b18f",
   "metadata": {},
   "outputs": [],
   "source": []
  },
  {
   "cell_type": "code",
   "execution_count": null,
   "id": "2abf5bc0-142f-4f64-a0d1-4b2d34cf2f53",
   "metadata": {},
   "outputs": [],
   "source": []
  },
  {
   "cell_type": "code",
   "execution_count": null,
   "id": "a56b5b06-1364-4272-b413-f77d1f47962d",
   "metadata": {},
   "outputs": [],
   "source": []
  }
 ],
 "metadata": {
  "kernelspec": {
   "display_name": "Python 3.7.4 32-bit",
   "language": "python",
   "name": "python3"
  },
  "language_info": {
   "codemirror_mode": {
    "name": "ipython",
    "version": 3
   },
   "file_extension": ".py",
   "mimetype": "text/x-python",
   "name": "python",
   "nbconvert_exporter": "python",
   "pygments_lexer": "ipython3",
   "version": "3.7.4"
  },
  "vscode": {
   "interpreter": {
    "hash": "59fc2309be6acf934a259a11d2dbf17bac9f9535f2277f597f2457d7a70440c3"
   }
  }
 },
 "nbformat": 4,
 "nbformat_minor": 5
}
